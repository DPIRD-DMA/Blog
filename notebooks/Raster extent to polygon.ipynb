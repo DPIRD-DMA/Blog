{
 "cells": [
  {
   "cell_type": "code",
   "execution_count": 1,
   "metadata": {},
   "outputs": [],
   "source": [
    "import os\n",
    "import rasterio\n",
    "import geopandas as gpd\n",
    "import pandas as pd\n",
    "from shapely.geometry import box\n",
    "from multiprocessing import Pool\n",
    "from tqdm import tqdm"
   ]
  },
  {
   "cell_type": "code",
   "execution_count": 2,
   "metadata": {},
   "outputs": [],
   "source": [
    "input_dir = '/home/nick/Desktop/test'\n",
    "file_types = ('.ers','.tif')\n",
    "export_dir = os.path.dirname(input_dir)\n",
    "export_file_name = os.path.basename(input_dir)"
   ]
  },
  {
   "cell_type": "code",
   "execution_count": 3,
   "metadata": {},
   "outputs": [
    {
     "data": {
      "text/plain": [
       "5"
      ]
     },
     "execution_count": 3,
     "metadata": {},
     "output_type": "execute_result"
    }
   ],
   "source": [
    "raster_list = []\n",
    "\n",
    "for root, dirs, files in os.walk(input_dir):\n",
    "    for file in files:\n",
    "        if file.endswith(file_types):\n",
    "            raster_list.append(os.path.join(root, file))\n",
    "            \n",
    "len(raster_list) "
   ]
  },
  {
   "cell_type": "code",
   "execution_count": 4,
   "metadata": {},
   "outputs": [],
   "source": [
    "def index(raster):\n",
    "    try:\n",
    "        dataset = rasterio.open(raster)\n",
    "        proj = dataset.crs.to_string()\n",
    "        bounds = dataset.bounds\n",
    "        geom = box(*bounds)\n",
    "        raster_name = os.path.basename(raster)\n",
    "        return({'name':raster_name,'path':raster,'crs':proj,'geometry':geom})\n",
    "    except:\n",
    "        print('could not open',raster)"
   ]
  },
  {
   "cell_type": "code",
   "execution_count": 5,
   "metadata": {},
   "outputs": [
    {
     "name": "stderr",
     "output_type": "stream",
     "text": [
      "100%|██████████| 5/5 [00:00<00:00, 77.18it/s]\n"
     ]
    }
   ],
   "source": [
    "with Pool() as p:\n",
    "    polygons = list(tqdm(p.imap(index, raster_list), total=len(raster_list)))"
   ]
  },
  {
   "cell_type": "code",
   "execution_count": 6,
   "metadata": {},
   "outputs": [
    {
     "name": "stdout",
     "output_type": "stream",
     "text": [
      "['EPSG:28350']\n"
     ]
    },
    {
     "data": {
      "text/html": [
       "<div>\n",
       "<style scoped>\n",
       "    .dataframe tbody tr th:only-of-type {\n",
       "        vertical-align: middle;\n",
       "    }\n",
       "\n",
       "    .dataframe tbody tr th {\n",
       "        vertical-align: top;\n",
       "    }\n",
       "\n",
       "    .dataframe thead th {\n",
       "        text-align: right;\n",
       "    }\n",
       "</style>\n",
       "<table border=\"1\" class=\"dataframe\">\n",
       "  <thead>\n",
       "    <tr style=\"text-align: right;\">\n",
       "      <th></th>\n",
       "      <th>name</th>\n",
       "      <th>path</th>\n",
       "      <th>crs</th>\n",
       "      <th>geometry</th>\n",
       "    </tr>\n",
       "  </thead>\n",
       "  <tbody>\n",
       "    <tr>\n",
       "      <th>0</th>\n",
       "      <td>South West 50m DEM (another copy).tif</td>\n",
       "      <td>/home/nick/Desktop/test/South West 50m DEM (an...</td>\n",
       "      <td>EPSG:28350</td>\n",
       "      <td>POLYGON ((1113190 6105440, 1113190 6961000, 21...</td>\n",
       "    </tr>\n",
       "    <tr>\n",
       "      <th>1</th>\n",
       "      <td>South West 50m DEM (4th copy).tif</td>\n",
       "      <td>/home/nick/Desktop/test/South West 50m DEM (4t...</td>\n",
       "      <td>EPSG:28350</td>\n",
       "      <td>POLYGON ((1113190 6105440, 1113190 6961000, 21...</td>\n",
       "    </tr>\n",
       "    <tr>\n",
       "      <th>2</th>\n",
       "      <td>South West 50m DEM (copy).tif</td>\n",
       "      <td>/home/nick/Desktop/test/South West 50m DEM (co...</td>\n",
       "      <td>EPSG:28350</td>\n",
       "      <td>POLYGON ((1113190 6105440, 1113190 6961000, 21...</td>\n",
       "    </tr>\n",
       "    <tr>\n",
       "      <th>3</th>\n",
       "      <td>South West 50m DEM.tif</td>\n",
       "      <td>/home/nick/Desktop/test/South West 50m DEM.tif</td>\n",
       "      <td>EPSG:28350</td>\n",
       "      <td>POLYGON ((1113190 6105440, 1113190 6961000, 21...</td>\n",
       "    </tr>\n",
       "    <tr>\n",
       "      <th>4</th>\n",
       "      <td>South West 50m DEM (3rd copy).tif</td>\n",
       "      <td>/home/nick/Desktop/test/South West 50m DEM (3r...</td>\n",
       "      <td>EPSG:28350</td>\n",
       "      <td>POLYGON ((1113190 6105440, 1113190 6961000, 21...</td>\n",
       "    </tr>\n",
       "  </tbody>\n",
       "</table>\n",
       "</div>"
      ],
      "text/plain": [
       "                                    name  \\\n",
       "0  South West 50m DEM (another copy).tif   \n",
       "1      South West 50m DEM (4th copy).tif   \n",
       "2          South West 50m DEM (copy).tif   \n",
       "3                 South West 50m DEM.tif   \n",
       "4      South West 50m DEM (3rd copy).tif   \n",
       "\n",
       "                                                path         crs  \\\n",
       "0  /home/nick/Desktop/test/South West 50m DEM (an...  EPSG:28350   \n",
       "1  /home/nick/Desktop/test/South West 50m DEM (4t...  EPSG:28350   \n",
       "2  /home/nick/Desktop/test/South West 50m DEM (co...  EPSG:28350   \n",
       "3     /home/nick/Desktop/test/South West 50m DEM.tif  EPSG:28350   \n",
       "4  /home/nick/Desktop/test/South West 50m DEM (3r...  EPSG:28350   \n",
       "\n",
       "                                            geometry  \n",
       "0  POLYGON ((1113190 6105440, 1113190 6961000, 21...  \n",
       "1  POLYGON ((1113190 6105440, 1113190 6961000, 21...  \n",
       "2  POLYGON ((1113190 6105440, 1113190 6961000, 21...  \n",
       "3  POLYGON ((1113190 6105440, 1113190 6961000, 21...  \n",
       "4  POLYGON ((1113190 6105440, 1113190 6961000, 21...  "
      ]
     },
     "execution_count": 6,
     "metadata": {},
     "output_type": "execute_result"
    }
   ],
   "source": [
    "all_polygons = pd.DataFrame(polygons)\n",
    "crs_list = all_polygons['crs'].unique()\n",
    "print(crs_list)\n",
    "all_polygons.head()"
   ]
  },
  {
   "cell_type": "code",
   "execution_count": 7,
   "metadata": {
    "scrolled": true
   },
   "outputs": [
    {
     "name": "stderr",
     "output_type": "stream",
     "text": [
      "100%|██████████| 1/1 [00:00<00:00, 24.25it/s]"
     ]
    },
    {
     "name": "stdout",
     "output_type": "stream",
     "text": [
      "/home/nick/Desktop/test crs 28350.gpkg\n"
     ]
    },
    {
     "name": "stderr",
     "output_type": "stream",
     "text": [
      "\n"
     ]
    }
   ],
   "source": [
    "for crs in tqdm(crs_list):\n",
    "    one_crs_df = all_polygons[all_polygons['crs']==crs]\n",
    "    one_crs_gdf = gpd.GeoDataFrame(one_crs_df,crs=crs) #crs={'init' :crs}\n",
    "    save_name = os.path.join(export_dir,(export_file_name+\" crs \"+crs.split(':')[1]+'.gpkg'))\n",
    "    one_crs_gdf.to_file(save_name, driver =\"GPKG\")\n",
    "    print(save_name)"
   ]
  },
  {
   "cell_type": "code",
   "execution_count": null,
   "metadata": {},
   "outputs": [],
   "source": []
  }
 ],
 "metadata": {
  "kernelspec": {
   "display_name": "Python 3",
   "language": "python",
   "name": "python3"
  },
  "language_info": {
   "codemirror_mode": {
    "name": "ipython",
    "version": 3
   },
   "file_extension": ".py",
   "mimetype": "text/x-python",
   "name": "python",
   "nbconvert_exporter": "python",
   "pygments_lexer": "ipython3",
   "version": "3.7.7"
  },
  "varInspector": {
   "cols": {
    "lenName": 16,
    "lenType": 16,
    "lenVar": 40
   },
   "kernels_config": {
    "python": {
     "delete_cmd_postfix": "",
     "delete_cmd_prefix": "del ",
     "library": "var_list.py",
     "varRefreshCmd": "print(var_dic_list())"
    },
    "r": {
     "delete_cmd_postfix": ") ",
     "delete_cmd_prefix": "rm(",
     "library": "var_list.r",
     "varRefreshCmd": "cat(var_dic_list()) "
    }
   },
   "types_to_exclude": [
    "module",
    "function",
    "builtin_function_or_method",
    "instance",
    "_Feature"
   ],
   "window_display": false
  }
 },
 "nbformat": 4,
 "nbformat_minor": 4
}
