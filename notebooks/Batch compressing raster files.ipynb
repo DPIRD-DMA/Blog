{
 "cells": [
  {
   "cell_type": "code",
   "execution_count": 1,
   "metadata": {},
   "outputs": [],
   "source": [
    "import os\n",
    "import glob\n",
    "from multiprocessing import Pool\n",
    "from tqdm.auto import tqdm\n",
    "from pathlib import Path\n",
    "from osgeo import gdal"
   ]
  },
  {
   "cell_type": "code",
   "execution_count": 2,
   "metadata": {},
   "outputs": [
    {
     "name": "stdout",
     "output_type": "stream",
     "text": [
      "Image count 1\n"
     ]
    }
   ],
   "source": [
    "tif_dir = '/home/nick/Desktop/full'\n",
    "\n",
    "export_dir = '/home/nick/Desktop/full comp'\n",
    "Path(export_dir).mkdir(parents=True, exist_ok=True)\n",
    "\n",
    "list_tifs = glob.glob(tif_dir+\"/*.tif\")\n",
    "print('Image count', len(list_tifs))"
   ]
  },
  {
   "cell_type": "code",
   "execution_count": 3,
   "metadata": {},
   "outputs": [],
   "source": [
    "topts = gdal.TranslateOptions(creationOptions=['COMPRESS=LZW', 'PREDICTOR=2', 'NUM_THREADS=ALL_CPUS','GDAL_DISABLE_READDIR_ON_OPEN=TRUE'])"
   ]
  },
  {
   "cell_type": "code",
   "execution_count": 4,
   "metadata": {},
   "outputs": [],
   "source": [
    "def compress_tifs(tif):\n",
    "    file_name = os.path.basename(tif)\n",
    "    export_path = os.path.join(export_dir,file_name)\n",
    "    \n",
    "    if not os.path.isfile(export_path):\n",
    "        gdal.Translate(export_path, tif, options=topts)"
   ]
  },
  {
   "cell_type": "code",
   "execution_count": 5,
   "metadata": {},
   "outputs": [
    {
     "data": {
      "application/vnd.jupyter.widget-view+json": {
       "model_id": "10f96cf983964854861f76aedbafd7bb",
       "version_major": 2,
       "version_minor": 0
      },
      "text/plain": [
       "HBox(children=(FloatProgress(value=0.0, max=1.0), HTML(value='')))"
      ]
     },
     "metadata": {},
     "output_type": "display_data"
    },
    {
     "name": "stdout",
     "output_type": "stream",
     "text": [
      "\n"
     ]
    }
   ],
   "source": [
    "with Pool() as p:\n",
    "    list(tqdm(p.imap(compress_tifs, list_tifs), total=len(list_tifs)))"
   ]
  },
  {
   "cell_type": "code",
   "execution_count": null,
   "metadata": {},
   "outputs": [],
   "source": []
  }
 ],
 "metadata": {
  "kernelspec": {
   "display_name": "Python 3",
   "language": "python",
   "name": "python3"
  },
  "language_info": {
   "codemirror_mode": {
    "name": "ipython",
    "version": 3
   },
   "file_extension": ".py",
   "mimetype": "text/x-python",
   "name": "python",
   "nbconvert_exporter": "python",
   "pygments_lexer": "ipython3",
   "version": "3.7.7"
  }
 },
 "nbformat": 4,
 "nbformat_minor": 2
}
