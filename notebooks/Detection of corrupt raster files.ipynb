{
 "cells": [
  {
   "cell_type": "code",
   "execution_count": 1,
   "metadata": {},
   "outputs": [],
   "source": [
    "import os \n",
    "from multiprocessing import Pool\n",
    "from tqdm.auto import tqdm\n",
    "import rasterio"
   ]
  },
  {
   "cell_type": "code",
   "execution_count": 2,
   "metadata": {},
   "outputs": [],
   "source": [
    "formats = ('.tif','.tiff','.jpg','.png')\n",
    "\n",
    "input_folder = '/media/nick/2TB Working 4/Dataset/VIVID 10m'"
   ]
  },
  {
   "cell_type": "code",
   "execution_count": 3,
   "metadata": {},
   "outputs": [
    {
     "name": "stdout",
     "output_type": "stream",
     "text": [
      "Raster count 31574\n"
     ]
    }
   ],
   "source": [
    "raster_list = []\n",
    "\n",
    "for path in os.walk(input_folder):\n",
    "    root, dirs, files = path\n",
    "    for file in files:\n",
    "        if file.endswith(formats):\n",
    "            raster_list.append(os.path.join(root, file))\n",
    "            \n",
    "print('Raster count',len(raster_list))"
   ]
  },
  {
   "cell_type": "code",
   "execution_count": 4,
   "metadata": {},
   "outputs": [],
   "source": [
    "def img_test(tif):\n",
    "    try:\n",
    "        src = rasterio.open(tif)\n",
    "        read_as_array = src.read()\n",
    "        bounds = src.bounds\n",
    "        if bounds.left == 0:\n",
    "            return(tif)\n",
    "        \n",
    "    except:\n",
    "        return tif"
   ]
  },
  {
   "cell_type": "code",
   "execution_count": 6,
   "metadata": {},
   "outputs": [
    {
     "data": {
      "application/vnd.jupyter.widget-view+json": {
       "model_id": "78e40760d1a4405b9cd1e0232b1ace3e",
       "version_major": 2,
       "version_minor": 0
      },
      "text/plain": [
       "HBox(children=(FloatProgress(value=0.0, max=31574.0), HTML(value='')))"
      ]
     },
     "metadata": {},
     "output_type": "display_data"
    },
    {
     "name": "stdout",
     "output_type": "stream",
     "text": [
      "\n"
     ]
    }
   ],
   "source": [
    "currupt_images = list(tqdm(Pool().imap(img_test, raster_list), total=len(raster_list)))"
   ]
  },
  {
   "cell_type": "code",
   "execution_count": 7,
   "metadata": {},
   "outputs": [],
   "source": [
    "for img in currupt_images:\n",
    "    if img != None:\n",
    "        print(img)"
   ]
  },
  {
   "cell_type": "code",
   "execution_count": 15,
   "metadata": {},
   "outputs": [],
   "source": [
    "# remove corrupt files?\n",
    "for img in currupt_images:\n",
    "    if img != None:\n",
    "        os.remove(img)"
   ]
  },
  {
   "cell_type": "code",
   "execution_count": null,
   "metadata": {},
   "outputs": [],
   "source": []
  }
 ],
 "metadata": {
  "kernelspec": {
   "display_name": "Python 3",
   "language": "python",
   "name": "python3"
  },
  "language_info": {
   "codemirror_mode": {
    "name": "ipython",
    "version": 3
   },
   "file_extension": ".py",
   "mimetype": "text/x-python",
   "name": "python",
   "nbconvert_exporter": "python",
   "pygments_lexer": "ipython3",
   "version": "3.7.7"
  }
 },
 "nbformat": 4,
 "nbformat_minor": 4
}
